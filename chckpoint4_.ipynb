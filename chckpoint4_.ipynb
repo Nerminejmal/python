{
 "cells": [
  {
   "cell_type": "code",
   "execution_count": 2,
   "id": "1a3b2a0c",
   "metadata": {},
   "outputs": [
    {
     "name": "stdout",
     "output_type": "stream",
     "text": [
      "(50, 30)\n"
     ]
    }
   ],
   "source": [
    "def cal(a,b):\n",
    "    addition = a+b \n",
    "    substraction = a-b \n",
    "    return addition,substraction\n",
    "\n",
    "res=cal(40,10)\n",
    "print(res)\n"
   ]
  },
  {
   "cell_type": "code",
   "execution_count": 3,
   "id": "d0ac70e5",
   "metadata": {},
   "outputs": [
    {
     "data": {
      "text/plain": [
       "35"
      ]
     },
     "execution_count": 3,
     "metadata": {},
     "output_type": "execute_result"
    }
   ],
   "source": [
    "def maximum(a,b,c):\n",
    "    if (a>=b) and (a>=c):\n",
    "        return (a)\n",
    "    elif (b>=a) and (b>=c):\n",
    "        return (b)\n",
    "    else :\n",
    "        return (c)\n",
    "maximum(20,35,19)"
   ]
  },
  {
   "cell_type": "code",
   "execution_count": 6,
   "id": "cbc2e4d9",
   "metadata": {},
   "outputs": [
    {
     "name": "stdout",
     "output_type": "stream",
     "text": [
      "10\n"
     ]
    }
   ],
   "source": [
    "def sum(list):\n",
    "    res=0\n",
    "    for i in list :\n",
    "        res+=i\n",
    "    return (res)\n",
    "a = [1,2,3,4]\n",
    "print(sum(a))"
   ]
  },
  {
   "cell_type": "code",
   "execution_count": 7,
   "id": "7a04d365",
   "metadata": {},
   "outputs": [
    {
     "name": "stdout",
     "output_type": "stream",
     "text": [
      "24\n"
     ]
    }
   ],
   "source": [
    "def mult(list):\n",
    "    res=1\n",
    "    for i in list :\n",
    "        res*=i\n",
    "    return (res)\n",
    "a = [1,2,3,4]\n",
    "print(mult(a))"
   ]
  },
  {
   "cell_type": "code",
   "execution_count": 1,
   "id": "50a38282",
   "metadata": {},
   "outputs": [
    {
     "name": "stdout",
     "output_type": "stream",
     "text": [
      "black-green-red-white-yellow\n"
     ]
    }
   ],
   "source": [
    "inputs = \"green-red-yellow-black-white\"\n",
    "\n",
    "def sort_inputs(inputs):\n",
    "    inputs_list = inputs.split('-')\n",
    "    \n",
    "    sorted_input = sorted(inputs_list)\n",
    "    \n",
    "    final = \"-\".join(term for term in sorted_input)\n",
    "    \n",
    "    return final\n",
    "\n",
    "final = sort_inputs(inputs)\n",
    "\n",
    "print(final)    "
   ]
  },
  {
   "cell_type": "code",
   "execution_count": null,
   "id": "27704610",
   "metadata": {},
   "outputs": [],
   "source": []
  }
 ],
 "metadata": {
  "kernelspec": {
   "display_name": "Python 3",
   "language": "python",
   "name": "python3"
  },
  "language_info": {
   "codemirror_mode": {
    "name": "ipython",
    "version": 3
   },
   "file_extension": ".py",
   "mimetype": "text/x-python",
   "name": "python",
   "nbconvert_exporter": "python",
   "pygments_lexer": "ipython3",
   "version": "3.8.8"
  }
 },
 "nbformat": 4,
 "nbformat_minor": 5
}
