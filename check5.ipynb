{
 "cells": [
  {
   "cell_type": "code",
   "execution_count": 3,
   "id": "b3cdecf6",
   "metadata": {},
   "outputs": [
    {
     "name": "stdout",
     "output_type": "stream",
     "text": [
      "(1, 2, 3)\n"
     ]
    }
   ],
   "source": [
    "class Point3D:\n",
    "    def __init__(self, x, y, z):\n",
    "        self.x = x\n",
    "        self.y = y\n",
    "        self.z = z\n",
    "    \n",
    "    def __repr__(self):  \n",
    "        return \"(%d, %d, %d)\" % (self.x, self.y, self.z) # %d is a numeric placeholder \n",
    "my_point= Point3D(1,2,3)\n",
    "print(my_point)"
   ]
  },
  {
   "cell_type": "code",
   "execution_count": 8,
   "id": "a4ab5eea",
   "metadata": {},
   "outputs": [
    {
     "name": "stdout",
     "output_type": "stream",
     "text": [
      "12\n",
      "14\n"
     ]
    }
   ],
   "source": [
    "class rectangle:\n",
    "    def __init__(self, l,w):\n",
    "        self.length = l\n",
    "        self.width = w\n",
    "    def rectangle_area(self):\n",
    "        return self.length*self.width\n",
    "    def rectangle_perimetre(self):\n",
    "        return 2*(self.length+self.width)\n",
    "my_rectangle= rectangle(4,3)\n",
    "print(my_rectangle.rectangle_area())\n",
    "print(my_rectangle.rectangle_perimetre())\n",
    "\n",
    " "
   ]
  },
  {
   "cell_type": "code",
   "execution_count": 22,
   "id": "c3059ceb",
   "metadata": {},
   "outputs": [
    {
     "name": "stdout",
     "output_type": "stream",
     "text": [
      "200.96\n",
      "50.24\n",
      "A is not in circle\n"
     ]
    }
   ],
   "source": [
    "class circle:\n",
    "    def __init__(self, r,o):\n",
    "        self.raduis = r\n",
    "        self.center = o\n",
    "    def circle_area(self):\n",
    "        return self.raduis**2*3.14\n",
    "    def circle_perimetre(self):\n",
    "        return self.raduis*2*3.14\n",
    "    \n",
    "    def A(self, x,y):\n",
    "        if x**2 + y**2-self.raduis**2 <= 0:\n",
    "             return\"A is in circle\".format(self.raduis, self.center)\n",
    "        else:\n",
    "            return\"A is not in circle\".format(self.raduis, self.center)\n",
    "NewCircle = circle(8,1)\n",
    "print(NewCircle.circle_area())\n",
    "print(NewCircle.circle_perimetre())\n",
    "print(NewCircle.A(8,8))"
   ]
  },
  {
   "cell_type": "code",
   "execution_count": 24,
   "id": "eed4cfc8",
   "metadata": {},
   "outputs": [
    {
     "name": "stdout",
     "output_type": "stream",
     "text": [
      "Welcome!\n",
      "Enter amount to be deposited: 500\n",
      "Amount Deposited:  500.0\n",
      "None\n",
      "Enter amount to withdraw: 200\n",
      "You withdraw:  200.0\n",
      "None\n",
      "Net Available Balance= 300.0\n",
      "None\n"
     ]
    }
   ],
   "source": [
    "class Bank_Account:\n",
    "    def __init__(self):\n",
    "        self.balance=0\n",
    "        print(\"Welcome!\")\n",
    "        \n",
    "    def deposit(self):\n",
    "        amount=float(input(\"Enter amount to be deposited: \"))\n",
    "        self.balance += amount\n",
    "        print(\"Amount Deposited: \",amount)\n",
    "    def withdraw(self):\n",
    "        amount = float(input(\"Enter amount to withdraw: \"))\n",
    "        if self.balance>=amount:\n",
    "            self.balance-=amount\n",
    "            print(\"You withdraw: \",amount)\n",
    "        else:\n",
    "            print(\"Insufficient balance \")\n",
    "    def display(self):\n",
    "        print(\"Net Available Balance=\",self.balance)\n",
    "\n",
    "s = Bank_Account()\n",
    "\n",
    "print(s.deposit())\n",
    "print(s.withdraw())\n",
    "print(s.display())    \n",
    "\n",
    "        \n",
    "        "
   ]
  },
  {
   "cell_type": "code",
   "execution_count": null,
   "id": "d1327792",
   "metadata": {},
   "outputs": [],
   "source": []
  }
 ],
 "metadata": {
  "kernelspec": {
   "display_name": "Python 3",
   "language": "python",
   "name": "python3"
  },
  "language_info": {
   "codemirror_mode": {
    "name": "ipython",
    "version": 3
   },
   "file_extension": ".py",
   "mimetype": "text/x-python",
   "name": "python",
   "nbconvert_exporter": "python",
   "pygments_lexer": "ipython3",
   "version": "3.8.8"
  }
 },
 "nbformat": 4,
 "nbformat_minor": 5
}
