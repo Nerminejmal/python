{
 "cells": [
  {
   "cell_type": "code",
   "execution_count": 1,
   "id": "fd1d3a6c",
   "metadata": {},
   "outputs": [
    {
     "data": {
      "text/plain": [
       "'What is Python language?                                                \\nPython is a widely used high-level, general-purpose, interpreted, dynamic programming language.Its design philosophy emphasizes code readability, and its syntax allows programmers to express concepts in fewer lines of code than possible in \\nlanguages such as C++ or Java. \\nPython supports multiple programming paradigms, including object-oriented, imperative and functional programming or procedural styles. It features a dynamic type system and automatic memory management and has a large and comprehensive standard library.The best way we learn anything is by practice and exercise questions. We  have started this section for those (beginner to intermediate) who are familiar with Python.'"
      ]
     },
     "execution_count": 1,
     "metadata": {},
     "output_type": "execute_result"
    }
   ],
   "source": [
    "f= open (\"python.txt\")\n",
    "f.read()"
   ]
  },
  {
   "cell_type": "code",
   "execution_count": 2,
   "id": "c4b79816",
   "metadata": {},
   "outputs": [
    {
     "name": "stdout",
     "output_type": "stream",
     "text": [
      "Donne le nombre de ligne : 2\n",
      "['Python is a widely used high-level, general-purpose, interpreted, dynamic programming language.Its design philosophy emphasizes code readability, and its syntax allows programmers to express concepts in fewer lines of code than possible in \\n', 'languages such as C++ or Java. \\n']\n"
     ]
    }
   ],
   "source": [
    "n=int(input('Donne le nombre de ligne : '))\n",
    "f= open (\"python.txt\")\n",
    "for line in f:\n",
    "       print(f.readlines()[:n])"
   ]
  },
  {
   "cell_type": "code",
   "execution_count": 3,
   "id": "e669303d",
   "metadata": {},
   "outputs": [
    {
     "name": "stdout",
     "output_type": "stream",
     "text": [
      "Donne le nombre de ligne : 2\n",
      "['languages such as C++ or Java. \\n', 'Python supports multiple programming paradigms, including object-oriented, imperative and functional programming or procedural styles. It features a dynamic type system and automatic memory management and has a large and comprehensive standard library.The best way we learn anything is by practice and exercise questions. We  have started this section for those (beginner to intermediate) who are familiar with Python.']\n"
     ]
    }
   ],
   "source": [
    "n=int(input('Donne le nombre de ligne : '))\n",
    "f= open (\"python.txt\")\n",
    "for line in f:\n",
    "       print(f.readlines()[-n:])\n",
    "        "
   ]
  },
  {
   "cell_type": "code",
   "execution_count": 4,
   "id": "ae3733ba",
   "metadata": {},
   "outputs": [
    {
     "name": "stdout",
     "output_type": "stream",
     "text": [
      "insert file namepython.txt\n",
      "number_words: 100\n"
     ]
    }
   ],
   "source": [
    "file_name= input ('insert file name')\n",
    "f= open (file_name) \n",
    "number_words=0\n",
    "f= open (\"python.txt\")\n",
    "for line in f:\n",
    "    words= line.split()\n",
    "    number_words+= len (words)\n",
    "print('number_words:' , number_words)"
   ]
  },
  {
   "cell_type": "code",
   "execution_count": 5,
   "id": "5b14594e",
   "metadata": {},
   "outputs": [],
   "source": [
    "f.close()"
   ]
  }
 ],
 "metadata": {
  "kernelspec": {
   "display_name": "Python 3",
   "language": "python",
   "name": "python3"
  },
  "language_info": {
   "codemirror_mode": {
    "name": "ipython",
    "version": 3
   },
   "file_extension": ".py",
   "mimetype": "text/x-python",
   "name": "python",
   "nbconvert_exporter": "python",
   "pygments_lexer": "ipython3",
   "version": "3.8.8"
  }
 },
 "nbformat": 4,
 "nbformat_minor": 5
}
