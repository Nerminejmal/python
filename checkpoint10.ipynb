{
 "cells": [
  {
   "cell_type": "code",
   "execution_count": 20,
   "id": "50345666",
   "metadata": {},
   "outputs": [
    {
     "name": "stdout",
     "output_type": "stream",
     "text": [
      "[14, 'hello', 967, '6']\n",
      "6\n"
     ]
    }
   ],
   "source": [
    "mylist=[14, \"hello\", 967]\n",
    "mylist.insert(4,\"6\") #to acess an item it needs to exist\n",
    "print (mylist)\n",
    "print(mylist[3]) # how to acess an item in a list "
   ]
  },
  {
   "cell_type": "code",
   "execution_count": 15,
   "id": "fac33224",
   "metadata": {},
   "outputs": [],
   "source": [
    "import pandas\n",
    "import numpy # to import a package it needs to be in lower cases"
   ]
  },
  {
   "cell_type": "code",
   "execution_count": 26,
   "id": "d9530005",
   "metadata": {},
   "outputs": [
    {
     "name": "stdout",
     "output_type": "stream",
     "text": [
      "python errors\n"
     ]
    }
   ],
   "source": [
    "print(\"python errors\") #print written in lowercase \n",
    "# need to use parentheses"
   ]
  },
  {
   "cell_type": "code",
   "execution_count": 28,
   "id": "8ffc9e98",
   "metadata": {},
   "outputs": [
    {
     "data": {
      "text/plain": [
       "'hello'"
      ]
     },
     "execution_count": 28,
     "metadata": {},
     "output_type": "execute_result"
    }
   ],
   "source": [
    "mydictionnary={'True':\"hello\",'False':\"bye\", '3':\"python\"}\n",
    "mydictionnary['True'] #the key needs to be written in the right form"
   ]
  },
  {
   "cell_type": "code",
   "execution_count": 32,
   "id": "496bea8c",
   "metadata": {},
   "outputs": [
    {
     "name": "stdout",
     "output_type": "stream",
     "text": [
      "14\n",
      "15\n",
      "16\n",
      "17\n",
      "18\n",
      "19\n",
      "20\n",
      "21\n",
      "22\n",
      "23\n",
      "24\n",
      "25\n",
      "26\n",
      "27\n",
      "28\n",
      "29\n",
      "30\n",
      "31\n",
      "32\n",
      "33\n",
      "34\n",
      "35\n",
      "36\n",
      "37\n",
      "38\n",
      "39\n",
      "40\n",
      "41\n",
      "42\n",
      "43\n",
      "44\n",
      "45\n",
      "46\n",
      "47\n",
      "48\n",
      "49\n",
      "50\n",
      "51\n",
      "52\n",
      "53\n",
      "54\n",
      "55\n",
      "56\n",
      "57\n",
      "58\n",
      "59\n",
      "60\n",
      "61\n",
      "62\n",
      "63\n",
      "64\n",
      "65\n",
      "66\n",
      "67\n",
      "68\n",
      "69\n",
      "70\n",
      "71\n",
      "72\n",
      "73\n",
      "74\n",
      "75\n",
      "76\n",
      "77\n"
     ]
    }
   ],
   "source": [
    "i=14\n",
    "while i<78:\n",
    "    print(i)\n",
    "    i+=1 #correct indentation"
   ]
  },
  {
   "cell_type": "code",
   "execution_count": 33,
   "id": "253c04c5",
   "metadata": {},
   "outputs": [
    {
     "data": {
      "text/plain": [
       "3"
      ]
     },
     "execution_count": 33,
     "metadata": {},
     "output_type": "execute_result"
    }
   ],
   "source": [
    "it=iter([1,2,3]) \n",
    "next(it)\n",
    "next(it)\n",
    "next(it)\n",
    "#the next() function can't go beyond the iterator items."
   ]
  },
  {
   "cell_type": "code",
   "execution_count": 35,
   "id": "dfa5154e",
   "metadata": {},
   "outputs": [
    {
     "data": {
      "text/plain": [
       "30"
      ]
     },
     "execution_count": 35,
     "metadata": {},
     "output_type": "execute_result"
    }
   ],
   "source": [
    "15+15\n",
    "#operation was applied to an object of an inappropriate type."
   ]
  },
  {
   "cell_type": "code",
   "execution_count": 37,
   "id": "e11d36ee",
   "metadata": {},
   "outputs": [
    {
     "data": {
      "text/plain": [
       "'python'"
      ]
     },
     "execution_count": 37,
     "metadata": {},
     "output_type": "execute_result"
    }
   ],
   "source": [
    "str('python') # function's argument was of an inappropriate type."
   ]
  },
  {
   "cell_type": "code",
   "execution_count": 40,
   "id": "7ea33dd4",
   "metadata": {},
   "outputs": [
    {
     "name": "stdout",
     "output_type": "stream",
     "text": [
      "python\n"
     ]
    }
   ],
   "source": [
    "python = 'python' #object is found\n",
    "print(python) "
   ]
  },
  {
   "cell_type": "code",
   "execution_count": 48,
   "id": "411198ca",
   "metadata": {},
   "outputs": [],
   "source": [
    "x=19/1"
   ]
  },
  {
   "cell_type": "code",
   "execution_count": null,
   "id": "74c94598",
   "metadata": {},
   "outputs": [],
   "source": []
  }
 ],
 "metadata": {
  "kernelspec": {
   "display_name": "Python 3",
   "language": "python",
   "name": "python3"
  },
  "language_info": {
   "codemirror_mode": {
    "name": "ipython",
    "version": 3
   },
   "file_extension": ".py",
   "mimetype": "text/x-python",
   "name": "python",
   "nbconvert_exporter": "python",
   "pygments_lexer": "ipython3",
   "version": "3.8.8"
  }
 },
 "nbformat": 4,
 "nbformat_minor": 5
}
