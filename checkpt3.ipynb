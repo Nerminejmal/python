{
 "cells": [
  {
   "cell_type": "code",
   "execution_count": 3,
   "id": "9c67700c",
   "metadata": {},
   "outputs": [
    {
     "name": "stdout",
     "output_type": "stream",
     "text": [
      "36\n"
     ]
    }
   ],
   "source": [
    "list=[2, 3, 6]\n",
    "p=1\n",
    "for x in list :\n",
    "    p=p*x \n",
    "print (p)"
   ]
  },
  {
   "cell_type": "code",
   "execution_count": 3,
   "id": "deb23373",
   "metadata": {},
   "outputs": [
    {
     "name": "stdout",
     "output_type": "stream",
     "text": [
      "[(2, 1), (1, 2), (2, 3), (4, 4), (2, 5)]\n"
     ]
    }
   ],
   "source": [
    "def lastelem (n):return n[-1]\n",
    "def list_lastelem (tuples):\n",
    "    return sorted (tuples, key=lastelem)\n",
    "print(list_lastelem([(2, 5), (1, 2), (4, 4), (2, 3), (2, 1)]))\n",
    "\n"
   ]
  },
  {
   "cell_type": "code",
   "execution_count": 2,
   "id": "e70401f8",
   "metadata": {},
   "outputs": [
    {
     "name": "stdout",
     "output_type": "stream",
     "text": [
      "{'a': 400, 'b': 400}\n"
     ]
    }
   ],
   "source": [
    "d1 = {'a': 100, 'b': 200, 'c':300}\n",
    "d2 = {'a': 300, 'b': 200, 'd':400} \n",
    "d3 = {}\n",
    "for i, j in d1.items():\n",
    "    for x, y in d2.items():\n",
    "        if i==x:\n",
    "            d3[i]=(j+y)\n",
    "print(d3)\n",
    "    "
   ]
  },
  {
   "cell_type": "code",
   "execution_count": 1,
   "id": "0f8bae8d",
   "metadata": {},
   "outputs": [
    {
     "name": "stdout",
     "output_type": "stream",
     "text": [
      "type a number = 5\n",
      "{1: 1, 2: 4, 3: 9, 4: 16, 5: 25}\n"
     ]
    }
   ],
   "source": [
    "num = int(input(\"type a number = \"))\n",
    "numdict ={}\n",
    "for i in range (1, num+1):\n",
    "    numdict[i]=i*i\n",
    "print (numdict)"
   ]
  },
  {
   "cell_type": "code",
   "execution_count": 6,
   "id": "8f3af38d",
   "metadata": {},
   "outputs": [
    {
     "name": "stdout",
     "output_type": "stream",
     "text": [
      "[('item3', '24.5'), ('item2', '15.10'), ('item1', '12.20')]\n"
     ]
    }
   ],
   "source": [
    "price= [('item1', '12.20'), ('item2', '15.10'), ('item3', '24.5')]\n",
    "print( sorted(price, key=lambda x: float(x[1]), reverse=True))\n"
   ]
  },
  {
   "cell_type": "code",
   "execution_count": null,
   "id": "74fc2e1a",
   "metadata": {},
   "outputs": [],
   "source": []
  },
  {
   "cell_type": "code",
   "execution_count": null,
   "id": "f768f009",
   "metadata": {},
   "outputs": [],
   "source": []
  }
 ],
 "metadata": {
  "kernelspec": {
   "display_name": "Python 3",
   "language": "python",
   "name": "python3"
  },
  "language_info": {
   "codemirror_mode": {
    "name": "ipython",
    "version": 3
   },
   "file_extension": ".py",
   "mimetype": "text/x-python",
   "name": "python",
   "nbconvert_exporter": "python",
   "pygments_lexer": "ipython3",
   "version": "3.8.8"
  }
 },
 "nbformat": 4,
 "nbformat_minor": 5
}
